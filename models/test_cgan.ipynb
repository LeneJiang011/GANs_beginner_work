{
 "cells": [
  {
   "cell_type": "code",
   "execution_count": 1,
   "metadata": {},
   "outputs": [
    {
     "name": "stdout",
     "output_type": "stream",
     "text": [
      "Extracting MNIST_data/train-images-idx3-ubyte.gz\n",
      "Extracting MNIST_data/train-labels-idx1-ubyte.gz\n",
      "Extracting MNIST_data/t10k-images-idx3-ubyte.gz\n",
      "Extracting MNIST_data/t10k-labels-idx1-ubyte.gz\n"
     ]
    }
   ],
   "source": [
    "import os\n",
    "import tensorflow as tf\n",
    "import random\n",
    "import numpy as np\n",
    "import matplotlib.pyplot as plt\n",
    "import input_data\n",
    "mnist = input_data.read_data_sets(\"MNIST_data/\", one_hot=True)"
   ]
  },
  {
   "cell_type": "code",
   "execution_count": 2,
   "metadata": {},
   "outputs": [
    {
     "data": {
      "text/plain": [
       "(55000, 784)"
      ]
     },
     "execution_count": 2,
     "metadata": {},
     "output_type": "execute_result"
    }
   ],
   "source": [
    "x_train = mnist.train.images[:55000, :]\n",
    "x_train.shape"
   ]
  },
  {
   "cell_type": "code",
   "execution_count": 3,
   "metadata": {},
   "outputs": [
    {
     "data": {
      "image/png": "[encoded data removed]",
      "text/plain": [
       "<matplotlib.figure.Figure at 0x7f9e533a3e48>"
      ]
     },
     "metadata": {},
     "output_type": "display_data"
    }
   ],
   "source": [
    "randomNum = random.randint(0, 55000)\n",
    "image = x_train[randomNum].reshape([28,28])\n",
    "plt.imshow(image, cmap=plt.get_cmap('gray_r'))\n",
    "plt.show()"
   ]
  },
  {
   "cell_type": "code",
   "execution_count": 4,
   "metadata": {
    "collapsed": true
   },
   "outputs": [],
   "source": [
    "y_dim = 10\n",
    "channel = 1\n",
    "batch_size = 16\n",
    "z_dimensions = 100\n",
    "EPOCH = 5"
   ]
  },
  {
   "cell_type": "code",
   "execution_count": 5,
   "metadata": {
    "collapsed": true
   },
   "outputs": [],
   "source": [
    "# LeakyReLU\n",
    "def lrelu(x, alpha=0.2):\n",
    "    return tf.maximum(x, alpha*x)\n",
    "\n",
    "def conv2d(x, W, b):\n",
    "    out = tf.nn.conv2d(x, W, strides=[1, 2, 2, 1], padding='SAME')\n",
    "    return tf.nn.bias_add(out, b)\n",
    "\n",
    "def de_conv(x, W, b, out_shape):\n",
    "    with tf.name_scope('deconv') as scope:\n",
    "        deconv = tf.nn.conv2d_transpose(x, W, out_shape, [1, 2, 2, 1], \n",
    "                                        padding='SAME', name=None)\n",
    "        out = tf.nn.bias_add(deconv, b)\n",
    "        return out\n",
    "    \n",
    "def fully_connect(x, W, b):\n",
    "    return tf.add(tf.matmul(x, W), b)\n",
    "\n",
    "# Concatenate x and y\n",
    "def conv_cond_concat(x, y):\n",
    "    x_shapes = x.get_shape()\n",
    "    y_shapes = y.get_shape()\n",
    "    print(x_shapes)\n",
    "    print(y_shapes)\n",
    "    return tf.concat([x, y * tf.ones([x_shapes[0], x_shapes[1], \n",
    "                                      x_shapes[2], y_shapes[3]])], 3)"
   ]
  },
  {
   "cell_type": "code",
   "execution_count": 6,
   "metadata": {
    "collapsed": true
   },
   "outputs": [],
   "source": [
    "def discriminator(x_image, y, reuse=False):\n",
    "    with tf.variable_scope('discriminator') as scope:\n",
    "        if(reuse):\n",
    "            tf.get_variable_scope().reuse_variables()\n",
    "        \n",
    "        yb = tf.reshape(y, shape=[batch_size, 1, 1, y_dim])\n",
    "        input_array = conv_cond_concat(x_image, yb)\n",
    "        \n",
    "        # First conv layers\n",
    "        W_conv1 = tf.Variable(tf.random_normal([5, 5, 11, 10], stddev=0.02), \n",
    "                              name='d_wconv1')\n",
    "        b_conv1 = tf.Variable(tf.zeros([10]), \n",
    "                              name='d_bconv1' )\n",
    "        h_conv1 = conv2d(input_array, W_conv1, b_conv1)\n",
    "        h_conv1 = lrelu(h_conv1)\n",
    "        h_conv1 = conv_cond_concat(h_conv1, yb)        \n",
    "        \n",
    "        # Second conv layers\n",
    "        W_conv2 = tf.Variable(tf.random_normal([5, 5, 20, 64], stddev=0.02), \n",
    "                              name='d_wconv2')\n",
    "        b_conv2 = tf.Variable(tf.zeros([64]), \n",
    "                              name='d_bconv2' )\n",
    "        h_conv2 = conv2d(h_conv1, W_conv2, b_conv2)\n",
    "        h_conv2 = tf.contrib.layers.batch_norm(h_conv2, center = True, \n",
    "                                               scale = True, is_training = True, scope = 'd_bn1')\n",
    "        h_conv2 = lrelu(h_conv2)\n",
    "        h_conv2 = tf.reshape(h_conv2, [batch_size, -1])\n",
    "        h_conv2 = tf.concat([h_conv2, y], 1)\n",
    "        \n",
    "    \n",
    "        # First fully connected layer\n",
    "        W_fc1 = tf.Variable(tf.random_normal([7 * 7 * 64 + y_dim, 1024], stddev=0.02),\n",
    "                            name='d_wfc1')\n",
    "        b_fc1 = tf.Variable(tf.zeros([1024]), name='d_bfc1')\n",
    "        h_fc1 = fully_connect(h_conv2, W_fc1, b_fc1)\n",
    "        h_fc1 = tf.contrib.layers.batch_norm(h_fc1, center = True, \n",
    "                                               scale = True, is_training = True, scope = 'd_bn2')\n",
    "        h_fc1 = lrelu(h_fc1)\n",
    "        h_fc1 = tf.concat([h_fc1, y], 1)\n",
    "        \n",
    "        # Final layer\n",
    "        W_fc2 = tf.Variable(tf.random_normal([1024 + y_dim, channel], stddev=0.02), \n",
    "                            name='d_wfc2')\n",
    "        b_fc2 = tf.Variable(tf.zeros([channel]), \n",
    "                            name='d_bfc2')\n",
    "        H_fc2 = fully_connect(h_fc1, W_fc2, b_fc2)\n",
    "        H_fc2 = tf.nn.sigmoid(H_fc2)\n",
    "        \n",
    "    return H_fc2"
   ]
  },
  {
   "cell_type": "code",
   "execution_count": 7,
   "metadata": {
    "collapsed": true
   },
   "outputs": [],
   "source": [
    "def generator(batch_size, z, z_dimensions, y, reuse=False):\n",
    "    with tf.variable_scope('generator') as scope:\n",
    "        if (reuse):\n",
    "            tf.get_variable_scope().reuse_variables()\n",
    "        \n",
    "        yb = tf.reshape(y, shape=[batch_size, 1, 1, y_dim])\n",
    "        z = tf.concat([z, y], 1)\n",
    "        output_size = 28\n",
    "        c1, c2 = int(output_size/4), int(output_size/2)\n",
    "    \n",
    "        \n",
    "        # First fully connected layer\n",
    "        W_fc1 = tf.Variable(tf.random_normal([z_dimensions + y_dim, 1024], stddev=0.02), \n",
    "                            name='g_wfc1')\n",
    "        b_fc1 = tf.Variable(tf.zeros([1024]), \n",
    "                            name='g_wfc1')\n",
    "        H_fc1 = fully_connect(z, W_fc1, b_fc1)\n",
    "        H_fc1 = tf.contrib.layers.batch_norm(H_fc1, center = True, \n",
    "                                               scale = True, is_training = True, scope = 'g_bn1')\n",
    "        H_fc1 = tf.nn.relu(H_fc1)\n",
    "        H_fc1 = tf.concat([H_fc1, y], 1)\n",
    "        \n",
    "        \n",
    "        # Second fully connected layer\n",
    "        W_fc2 = tf.Variable(tf.random_normal([1024 + y_dim, 7 * 7 * 2 * 64], stddev=0.02), \n",
    "                            name='g_wfc2')\n",
    "        b_fc2 = tf.Variable(tf.zeros([7 * 7 * 2 * 64]), \n",
    "                            name='g_wfc2')\n",
    "        H_fc2 = fully_connect(H_fc1, W_fc2, b_fc2)\n",
    "        H_fc2 = tf.contrib.layers.batch_norm(H_fc2, center = True, \n",
    "                                               scale = True, is_training = True, scope = 'g_bn2')\n",
    "        H_fc2 = tf.nn.relu(H_fc2)\n",
    "        H_fc2 = tf.reshape(H_fc2, [batch_size, c1, c1, 64 * 2])\n",
    "        H_fc2 = conv_cond_concat(H_fc2, yb)\n",
    "        \n",
    "        # First Deconv layer\n",
    "        W_conv1 = tf.Variable(tf.random_normal([5, 5, 128, 138], stddev=0.02), \n",
    "                              name='g_wconv1')\n",
    "        b_conv1 = tf.Variable(tf.zeros([128]), \n",
    "                              name='g_bconv1')\n",
    "        H_conv1 = de_conv(H_fc2, W_conv1, b_conv1, out_shape=[batch_size, c2, c2, 128])\n",
    "        H_conv1 = tf.contrib.layers.batch_norm(H_conv1, center = True, \n",
    "                                               scale = True, is_training = True, scope = 'g_bn3')\n",
    "        H_conv1 = tf.nn.relu(H_conv1)\n",
    "        H_conv1 = conv_cond_concat(H_conv1, yb)\n",
    "        \n",
    "        # Second Deconv layer\n",
    "        W_conv2 = tf.Variable(tf.random_normal([5, 5, channel, 138], stddev=0.02), \n",
    "                              name='g_wconv2')\n",
    "        b_conv2 = tf.Variable(tf.zeros([channel]), \n",
    "                              name='g_bconv2')\n",
    "        H_conv2 = de_conv(H_conv1, W_conv2, b_conv2, out_shape=[batch_size, output_size, output_size, 1])\n",
    "        H_conv2 = tf.nn.sigmoid(H_conv2)\n",
    "    \n",
    "    return H_conv2"
   ]
  },
  {
   "cell_type": "code",
   "execution_count": 8,
   "metadata": {
    "collapsed": true
   },
   "outputs": [],
   "source": [
    "sess = tf.Session()\n",
    "images = tf.placeholder(tf.float32, [batch_size, 28, 28, 1])\n",
    "y_placeholder = tf.placeholder(tf.float32, [None, y_dim])\n",
    "z_placeholder = tf.placeholder(tf.float32, [None, z_dimensions])"
   ]
  },
  {
   "cell_type": "code",
   "execution_count": 9,
   "metadata": {},
   "outputs": [
    {
     "name": "stdout",
     "output_type": "stream",
     "text": [
      "(16, 28, 28, 1)\n",
      "(16, 1, 1, 10)\n",
      "(16, 14, 14, 10)\n",
      "(16, 1, 1, 10)\n",
      "(16, 7, 7, 128)\n",
      "(16, 1, 1, 10)\n",
      "(16, 14, 14, 128)\n",
      "(16, 1, 1, 10)\n",
      "(16, 28, 28, 1)\n",
      "(16, 1, 1, 10)\n",
      "(16, 14, 14, 10)\n",
      "(16, 1, 1, 10)\n"
     ]
    }
   ],
   "source": [
    "Dx = discriminator(images, y_placeholder)\n",
    "Gz = generator(batch_size, z_placeholder, z_dimensions, y_placeholder)\n",
    "Dg = discriminator(Gz, y_placeholder, reuse = True)"
   ]
  },
  {
   "cell_type": "code",
   "execution_count": 10,
   "metadata": {
    "collapsed": true
   },
   "outputs": [],
   "source": [
    "g_loss = tf.reduce_mean(tf.nn.sigmoid_cross_entropy_with_logits(logits=Dg, labels=tf.ones_like(Dg)))\n",
    "d_loss_real = tf.reduce_mean(tf.nn.sigmoid_cross_entropy_with_logits(logits=Dx, labels=tf.ones_like(Dx)))\n",
    "d_loss_fake = tf.reduce_mean(tf.nn.sigmoid_cross_entropy_with_logits(logits=Dg, labels=tf.zeros_like(Dg)))\n",
    "d_loss = d_loss_real + d_loss_fake"
   ]
  },
  {
   "cell_type": "code",
   "execution_count": 11,
   "metadata": {
    "collapsed": true
   },
   "outputs": [],
   "source": [
    "tvars = tf.trainable_variables()\n",
    "d_vars = [var for var in tvars if 'd_' in var.name]\n",
    "g_vars = [var for var in tvars if 'g_' in var.name]"
   ]
  },
  {
   "cell_type": "code",
   "execution_count": 12,
   "metadata": {
    "collapsed": true
   },
   "outputs": [],
   "source": [
    "with tf.variable_scope(tf.get_variable_scope(), reuse=False):\n",
    "    trainerD = tf.train.AdamOptimizer(learning_rate=.0002, beta1=0.5).minimize(d_loss, var_list=d_vars)\n",
    "    trainerG = tf.train.AdamOptimizer(learning_rate=.0002, beta1=0.5).minimize(g_loss, var_list=g_vars)"
   ]
  },
  {
   "cell_type": "code",
   "execution_count": 13,
   "metadata": {},
   "outputs": [
    {
     "name": "stdout",
     "output_type": "stream",
     "text": [
      "Iteration: 0000 dcost= 0.093469054\n",
      "Iteration: 0000 gcost= 0.031238418\n",
      "Iteration: 0100 dcost= 0.068552777\n",
      "Iteration: 0100 gcost= 0.040110439\n",
      "Iteration: 0200 dcost= 0.067901477\n",
      "Iteration: 0200 gcost= 0.040312417\n",
      "Iteration: 0300 dcost= 0.070246994\n",
      "Iteration: 0300 gcost= 0.038859352\n",
      "Iteration: 0400 dcost= 0.065422475\n",
      "Iteration: 0400 gcost= 0.041787632\n",
      "Iteration: 0500 dcost= 0.067778975\n",
      "Iteration: 0500 gcost= 0.040344141\n",
      "Iteration: 0600 dcost= 0.067774743\n",
      "Iteration: 0600 gcost= 0.040345099\n",
      "Iteration: 0700 dcost= 0.067765184\n",
      "Iteration: 0700 gcost= 0.040348005\n",
      "Iteration: 0800 dcost= 0.065352693\n",
      "Iteration: 0800 gcost= 0.041822147\n",
      "Iteration: 0900 dcost= 0.070187405\n",
      "Iteration: 0900 gcost= 0.038867380\n",
      "Iteration: 1000 dcost= 0.062989578\n",
      "Iteration: 1000 gcost= 0.043265358\n",
      "Iteration: 1100 dcost= 0.062926285\n",
      "Iteration: 1100 gcost= 0.043303750\n",
      "Iteration: 1200 dcost= 0.062933505\n",
      "Iteration: 1200 gcost= 0.043299623\n",
      "Iteration: 1300 dcost= 0.062929258\n",
      "Iteration: 1300 gcost= 0.043300487\n",
      "Iteration: 1400 dcost= 0.062917620\n",
      "Iteration: 1400 gcost= 0.043309003\n",
      "Iteration: 1500 dcost= 0.062909991\n",
      "Iteration: 1500 gcost= 0.043315545\n",
      "Iteration: 1600 dcost= 0.062911406\n",
      "Iteration: 1600 gcost= 0.043314360\n",
      "Iteration: 1700 dcost= 0.062908106\n",
      "Iteration: 1700 gcost= 0.043316849\n",
      "Iteration: 1800 dcost= 0.062906198\n",
      "Iteration: 1800 gcost= 0.043318108\n",
      "Iteration: 1900 dcost= 0.062906407\n",
      "Iteration: 1900 gcost= 0.043318257\n",
      "Iteration: 2000 dcost= 0.062905580\n",
      "Iteration: 2000 gcost= 0.043318409\n",
      "Iteration: 2100 dcost= 0.062906533\n",
      "Iteration: 2100 gcost= 0.043318152\n",
      "Iteration: 2200 dcost= 0.062906176\n",
      "Iteration: 2200 gcost= 0.043318488\n",
      "Iteration: 2300 dcost= 0.062904440\n",
      "Iteration: 2300 gcost= 0.043319181\n",
      "Iteration: 2400 dcost= 0.062903926\n",
      "Iteration: 2400 gcost= 0.043319650\n",
      "Iteration: 2500 dcost= 0.062904209\n",
      "Iteration: 2500 gcost= 0.043319479\n",
      "Iteration: 2600 dcost= 0.062903918\n",
      "Iteration: 2600 gcost= 0.043319702\n",
      "Iteration: 2700 dcost= 0.062903419\n",
      "Iteration: 2700 gcost= 0.043319948\n",
      "Iteration: 2800 dcost= 0.062907420\n",
      "Iteration: 2800 gcost= 0.043316990\n",
      "Iteration: 2900 dcost= 0.062902704\n",
      "Iteration: 2900 gcost= 0.043320473\n"
     ]
    }
   ],
   "source": [
    "sess.run(tf.global_variables_initializer())\n",
    "iterations = 3000\n",
    "for i in range(iterations):\n",
    "    avg_dcost = 0\n",
    "    avg_gcost = 0\n",
    "    z_batch = np.random.normal(-1, 1, size=[batch_size, z_dimensions])\n",
    "    real_image_batch = mnist.train.next_batch(batch_size)\n",
    "    input_image_batch = np.reshape(real_image_batch[0], \n",
    "                                   [batch_size, 28, 28, 1])\n",
    "    input_label_batch = np.reshape(real_image_batch[1],\n",
    "                                   [batch_size, y_dim])\n",
    "    \n",
    "    _, dLoss = sess.run([trainerD, d_loss], feed_dict={images: input_image_batch,\n",
    "                                                        y_placeholder: input_label_batch,\n",
    "                                                        z_placeholder: z_batch})\n",
    "    avg_dcost += dLoss / batch_size\n",
    "    if (i % 100 == 0):\n",
    "        print(\"Iteration:\", '%04d' % (i), \"dcost=\", \"{:.9f}\".format(avg_dcost))\n",
    "    \n",
    "    _, gLoss = sess.run([trainerG, g_loss], feed_dict={y_placeholder: input_label_batch,\n",
    "                                                       z_placeholder: z_batch})\n",
    "    \n",
    "    avg_gcost += gLoss / batch_size\n",
    "    if (i % 100 == 0):\n",
    "        print(\"Iteration:\", '%04d' % (i), \"gcost=\", \"{:.9f}\".format(avg_gcost))"
   ]
  },
  {
   "cell_type": "code",
   "execution_count": 14,
   "metadata": {},
   "outputs": [
    {
     "name": "stdout",
     "output_type": "stream",
     "text": [
      "(1, 7, 7, 128)\n",
      "(1, 1, 1, 10)\n",
      "(1, 14, 14, 128)\n",
      "(1, 1, 1, 10)\n"
     ]
    },
    {
     "data": {
      "image/png": "[encoded data removed]",
      "text/plain": [
       "<matplotlib.figure.Figure at 0x7f9deb56be48>"
      ]
     },
     "metadata": {},
     "output_type": "display_data"
    }
   ],
   "source": [
    "test_label = mnist.train.labels\n",
    "randomNum = random.randint(0, 55000)\n",
    "test_y = test_label[randomNum].reshape([1,10])\n",
    "\n",
    "sample_image = generator(1, z_placeholder, z_dimensions, y_placeholder, reuse=True)\n",
    "test_z = np.random.normal(-1, 1, [1, z_dimensions])\n",
    "\n",
    "sess.run(tf.global_variables_initializer())\n",
    "temp = (sess.run(sample_image, feed_dict={y_placeholder: test_y,\n",
    "                                          z_placeholder: test_z}))\n",
    "\n",
    "my_i = temp.squeeze()\n",
    "plt.imshow(my_i, cmap='gray_r')\n",
    "plt.show()"
   ]
  },
  {
   "cell_type": "code",
   "execution_count": null,
   "metadata": {
    "collapsed": true
   },
   "outputs": [],
   "source": []
  }
 ],
 "metadata": {
  "kernelspec": {
   "display_name": "Python 3",
   "language": "python",
   "name": "python3"
  },
  "language_info": {
   "codemirror_mode": {
    "name": "ipython",
    "version": 3
   },
   "file_extension": ".py",
   "mimetype": "text/x-python",
   "name": "python",
   "nbconvert_exporter": "python",
   "pygments_lexer": "ipython3",
   "version": "3.6.1"
  }
 },
 "nbformat": 4,
 "nbformat_minor": 2
}
