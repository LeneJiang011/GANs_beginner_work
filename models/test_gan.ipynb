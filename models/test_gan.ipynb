{
 "cells": [
  {
   "cell_type": "code",
   "execution_count": 1,
   "metadata": {},
   "outputs": [
    {
     "name": "stdout",
     "output_type": "stream",
     "text": [
      "Extracting MNIST_data/train-images-idx3-ubyte.gz\n",
      "Extracting MNIST_data/train-labels-idx1-ubyte.gz\n",
      "Extracting MNIST_data/t10k-images-idx3-ubyte.gz\n",
      "Extracting MNIST_data/t10k-labels-idx1-ubyte.gz\n"
     ]
    }
   ],
   "source": [
    "import tensorflow as tf\n",
    "import random\n",
    "import numpy as np\n",
    "import matplotlib.pyplot as plt\n",
    "import input_data\n",
    "mnist = input_data.read_data_sets(\"MNIST_data/\")"
   ]
  },
  {
   "cell_type": "code",
   "execution_count": 2,
   "metadata": {},
   "outputs": [
    {
     "data": {
      "text/plain": [
       "(55000, 784)"
      ]
     },
     "execution_count": 2,
     "metadata": {},
     "output_type": "execute_result"
    }
   ],
   "source": [
    "x_train = mnist.train.images[:55000, :]\n",
    "x_train.shape"
   ]
  },
  {
   "cell_type": "code",
   "execution_count": 3,
   "metadata": {},
   "outputs": [
    {
     "data": {
      "image/png": "[encoded data removed]",
      "text/plain": [
       "<matplotlib.figure.Figure at 0x7f1ee19e2cc0>"
      ]
     },
     "metadata": {},
     "output_type": "display_data"
    }
   ],
   "source": [
    "randomNum = random.randint(0, 55000)\n",
    "image = x_train[randomNum].reshape([28,28])\n",
    "plt.imshow(image, cmap=plt.get_cmap('gray_r'))\n",
    "plt.show()"
   ]
  },
  {
   "cell_type": "code",
   "execution_count": 4,
   "metadata": {
    "collapsed": true
   },
   "outputs": [],
   "source": [
    "def conv2d(x, W):\n",
    "    return tf.nn.conv2d(input=x, filter=W, strides=[1, 1, 1, 1], padding='SAME')\n",
    "\n",
    "def avg_pool_2x2(x):\n",
    "    return tf.nn.avg_pool(x, ksize=[1, 2, 2, 1], strides=[1, 2, 2, 1], padding='SAME')"
   ]
  },
  {
   "cell_type": "code",
   "execution_count": 5,
   "metadata": {
    "collapsed": true
   },
   "outputs": [],
   "source": [
    "def discriminator(x_image, reuse=False):\n",
    "    with tf.variable_scope('discriminator') as scope:\n",
    "        if(reuse):\n",
    "            tf.get_variable_scope().reuse_variables()\n",
    "        \n",
    "        # First conv and pool layers\n",
    "        W_conv1 = tf.get_variable('d_wconv1', [5, 5, 1, 8], initializer=tf.truncated_normal_initializer(stddev=0.02))\n",
    "        b_conv1 = tf.get_variable('d_bconv1', [8], initializer=tf.constant_initializer(0))\n",
    "        h_conv1 = tf.nn.relu(conv2d(x_image, W_conv1) + b_conv1)\n",
    "        h_pool1 = avg_pool_2x2(h_conv1)\n",
    "        \n",
    "        # Second conv and pool layers\n",
    "        W_conv2 = tf.get_variable('d_wconv2', [5, 5, 8, 16], initializer=tf.truncated_normal_initializer(stddev=0.02))\n",
    "        b_conv2 = tf.get_variable('d_bconv2', [16], initializer=tf.constant_initializer(0))\n",
    "        h_conv2 = tf.nn.relu(conv2d(h_pool1, W_conv2) + b_conv2)\n",
    "        h_pool2 = avg_pool_2x2(h_conv2)\n",
    "        \n",
    "        # First fully connected layer\n",
    "        W_fc1 = tf.get_variable('d_wfc1', [7 * 7 * 16, 32], initializer=tf.truncated_normal_initializer(stddev=0.02))\n",
    "        b_fc1 = tf.get_variable('d_bfc1', [32], initializer=tf.constant_initializer(0))\n",
    "        h_pool2_flat = tf.reshape(h_pool2, [-1, 7 * 7 * 16])\n",
    "        h_fc1 = tf.nn.relu(tf.matmul(h_pool2_flat, W_fc1) + b_fc1)\n",
    "        \n",
    "        # Second fully connected layer\n",
    "        W_fc2 = tf.get_variable('d_wfc2', [32, 1], initializer=tf.truncated_normal_initializer(stddev=0.02))\n",
    "        b_fc2 = tf.get_variable('d_bfc2', [1], initializer=tf.constant_initializer(0))\n",
    "        \n",
    "        # Final layer\n",
    "        y_conv = tf.matmul(h_fc1, W_fc2) + b_fc2\n",
    "        \n",
    "    return y_conv"
   ]
  },
  {
   "cell_type": "code",
   "execution_count": 6,
   "metadata": {
    "collapsed": true
   },
   "outputs": [],
   "source": [
    "def generator(z, batch_size, z_dim, reuse=False):\n",
    "    with tf.variable_scope('generator') as scope:\n",
    "        if (reuse):\n",
    "            tf.get_variable_scope().reuse_variables()\n",
    "        \n",
    "        g_dim = 64 # number of filters of first layer of generator\n",
    "        c_dim = 1 # color dimension of output\n",
    "        \n",
    "        s = 28\n",
    "        s2, s4, s8, s16 = int(s/2), int(s/4), int(s/8), int(s/16) # slowly upscale\n",
    "        h0 = tf.reshape(z, [batch_size, s16 + 1, s16 + 1, 25])\n",
    "        h0 = tf.nn.relu(h0)\n",
    "        # Dimensions of h0 = batch_size x 2 x 2 x 25\n",
    "        \n",
    "        # First deconv layer\n",
    "        output1_shape = [batch_size, s8, s8, g_dim * 4]\n",
    "        W_conv1 = tf.get_variable('g_wconv1', [5, 5, output1_shape[-1], int(h0.get_shape()[-1])], \n",
    "                                  initializer=tf.truncated_normal_initializer(stddev=0.1))\n",
    "        b_conv1 = tf.get_variable('g_bconv1', [output1_shape[-1]], \n",
    "                                  initializer=tf.constant_initializer(.1))\n",
    "        H_conv1 = tf.nn.conv2d_transpose(h0, W_conv1, output_shape=output1_shape, \n",
    "                                        strides = [1, 2, 2, 1], padding='SAME')\n",
    "        H_conv1 = tf.contrib.layers.batch_norm(H_conv1, center = True, \n",
    "                                               scale = True, is_training = True, scope = 'g_bn1')\n",
    "        H_conv1 = tf.nn.relu(H_conv1)\n",
    "        # Dimensions of H_conv1 = batch_size x 3 x 3 x 256\n",
    "        \n",
    "        # Second Deconv layer\n",
    "        output2_shape = [batch_size, s4 - 1, s4 - 1, g_dim * 2]\n",
    "        W_conv2 = tf.get_variable('g_wconv2', [5, 5, output2_shape[-1], int(H_conv1.get_shape()[-1])], \n",
    "                                  initializer=tf.truncated_normal_initializer(stddev=0.1))\n",
    "        b_conv2 = tf.get_variable('g_bconv2', [output2_shape[-1]], \n",
    "                                  initializer=tf.constant_initializer(.1))\n",
    "        H_conv2 = tf.nn.conv2d_transpose(H_conv1, W_conv2, output_shape=output2_shape, \n",
    "                                        strides = [1, 2, 2, 1], padding='SAME')\n",
    "        H_conv2 = tf.contrib.layers.batch_norm(H_conv2, center = True, \n",
    "                                               scale = True, is_training = True, scope = 'g_bn2')\n",
    "        H_conv2 = tf.nn.relu(H_conv2)\n",
    "        # Dimensions of H_conv2 = batch_size x 6 x 6 x 128\n",
    "        \n",
    "        # Third Deconv layer\n",
    "        output3_shape = [batch_size, s2 - 2, s2 - 2, g_dim * 1]\n",
    "        W_conv3 = tf.get_variable('g_wconv3', [5, 5, output3_shape[-1], int(H_conv2.get_shape()[-1])], \n",
    "                                  initializer=tf.truncated_normal_initializer(stddev=0.1))\n",
    "        b_conv3 = tf.get_variable('g_bconv3', [output3_shape[-1]], \n",
    "                                  initializer=tf.constant_initializer(.1))\n",
    "        H_conv3 = tf.nn.conv2d_transpose(H_conv2, W_conv3, output_shape=output3_shape, \n",
    "                                        strides = [1, 2, 2, 1], padding='SAME')\n",
    "        H_conv3 = tf.contrib.layers.batch_norm(H_conv3, center = True, \n",
    "                                               scale = True, is_training = True, scope = 'g_bn3')\n",
    "        H_conv3 = tf.nn.relu(H_conv3)\n",
    "        # Dimensions of H_conv3 = batch_size x 12 x 12 x 64\n",
    "        \n",
    "        # Fourth Deconv layer\n",
    "        output4_shape = [batch_size, s, s, c_dim]\n",
    "        W_conv4 = tf.get_variable('g_wconv4', [5, 5, output4_shape[-1], int(H_conv3.get_shape()[-1])], \n",
    "                                  initializer=tf.truncated_normal_initializer(stddev=0.1))\n",
    "        b_conv4 = tf.get_variable('g_bconv4', [output4_shape[-1]], \n",
    "                                  initializer=tf.constant_initializer(.1))\n",
    "        H_conv4 = tf.nn.conv2d_transpose(H_conv3, W_conv4, output_shape=output4_shape, \n",
    "                                        strides = [1, 2, 2, 1], padding='VALID')\n",
    "        H_conv4 = tf.nn.tanh(H_conv4)\n",
    "        # Dimensions of H_conv4 = batch_size x 28 x 28 x 1\n",
    "    \n",
    "    return H_conv4"
   ]
  },
  {
   "cell_type": "code",
   "execution_count": 7,
   "metadata": {
    "collapsed": true
   },
   "outputs": [],
   "source": [
    "batch_size = 16\n",
    "z_dimensions = 100\n",
    "\n",
    "sess = tf.Session()\n",
    "x_placeholder = tf.placeholder(\"float\", shape = [None, 28, 28, 1])\n",
    "z_placeholder = tf.placeholder(tf.float32, [None, z_dimensions])"
   ]
  },
  {
   "cell_type": "code",
   "execution_count": 8,
   "metadata": {
    "collapsed": true
   },
   "outputs": [],
   "source": [
    "Dx = discriminator(x_placeholder)\n",
    "Gz = generator(z_placeholder, batch_size, z_dimensions)\n",
    "Dg = discriminator(Gz, reuse = True)"
   ]
  },
  {
   "cell_type": "code",
   "execution_count": 9,
   "metadata": {
    "collapsed": true
   },
   "outputs": [],
   "source": [
    "g_loss = tf.reduce_mean(tf.nn.sigmoid_cross_entropy_with_logits(logits=Dg, labels=tf.ones_like(Dg)))"
   ]
  },
  {
   "cell_type": "code",
   "execution_count": 10,
   "metadata": {
    "collapsed": true
   },
   "outputs": [],
   "source": [
    "d_loss_real = tf.reduce_mean(tf.nn.sigmoid_cross_entropy_with_logits(logits=Dx, labels=tf.ones_like(Dx)))\n",
    "d_loss_fake = tf.reduce_mean(tf.nn.sigmoid_cross_entropy_with_logits(logits=Dg, labels=tf.zeros_like(Dg)))\n",
    "d_loss = d_loss_real + d_loss_fake"
   ]
  },
  {
   "cell_type": "code",
   "execution_count": 11,
   "metadata": {
    "collapsed": true
   },
   "outputs": [],
   "source": [
    "tvars = tf.trainable_variables()\n",
    "d_vars = [var for var in tvars if 'd_' in var.name]\n",
    "g_vars = [var for var in tvars if 'g_' in var.name]"
   ]
  },
  {
   "cell_type": "code",
   "execution_count": 12,
   "metadata": {
    "collapsed": true
   },
   "outputs": [],
   "source": [
    "with tf.variable_scope(tf.get_variable_scope(), reuse=False):\n",
    "    trainerD = tf.train.AdamOptimizer(learning_rate=.0002).minimize(d_loss, var_list=d_vars)\n",
    "    trainerG = tf.train.AdamOptimizer(learning_rate=.0002).minimize(g_loss, var_list=g_vars)"
   ]
  },
  {
   "cell_type": "code",
   "execution_count": null,
   "metadata": {},
   "outputs": [
    {
     "name": "stdout",
     "output_type": "stream",
     "text": [
      "Iteration: 0000 dcost= 0.086642161\n",
      "Iteration: 0000 gcost= 0.043320332\n",
      "Iteration: 0100 dcost= 0.082871966\n",
      "Iteration: 0100 gcost= 0.057025306\n",
      "Iteration: 0200 dcost= 0.085528173\n",
      "Iteration: 0200 gcost= 0.043786488\n",
      "Iteration: 0300 dcost= 0.086154118\n",
      "Iteration: 0300 gcost= 0.044649407\n",
      "Iteration: 0400 dcost= 0.086341321\n",
      "Iteration: 0400 gcost= 0.042208500\n",
      "Iteration: 0500 dcost= 0.086806297\n",
      "Iteration: 0500 gcost= 0.043623418\n",
      "Iteration: 0600 dcost= 0.085868388\n",
      "Iteration: 0600 gcost= 0.047801886\n",
      "Iteration: 0700 dcost= 0.086742595\n",
      "Iteration: 0700 gcost= 0.041440599\n",
      "Iteration: 0800 dcost= 0.088146441\n",
      "Iteration: 0800 gcost= 0.038481563\n",
      "Iteration: 0900 dcost= 0.085770242\n",
      "Iteration: 0900 gcost= 0.050000992\n",
      "Iteration: 1000 dcost= 0.081794120\n",
      "Iteration: 1000 gcost= 0.044594049\n",
      "Iteration: 1100 dcost= 0.084386125\n",
      "Iteration: 1100 gcost= 0.041500956\n",
      "Iteration: 1200 dcost= 0.068996117\n",
      "Iteration: 1200 gcost= 0.048544697\n",
      "Iteration: 1300 dcost= 0.058611054\n",
      "Iteration: 1300 gcost= 0.066119976\n",
      "Iteration: 1400 dcost= 0.052803196\n",
      "Iteration: 1400 gcost= 0.073955193\n",
      "Iteration: 1500 dcost= 0.031702507\n",
      "Iteration: 1500 gcost= 0.108794488\n",
      "Iteration: 1600 dcost= 0.025531635\n",
      "Iteration: 1600 gcost= 0.101912603\n",
      "Iteration: 1700 dcost= 0.024627820\n",
      "Iteration: 1700 gcost= 0.109898724\n",
      "Iteration: 1800 dcost= 0.033878855\n",
      "Iteration: 1800 gcost= 0.147021919\n",
      "Iteration: 1900 dcost= 0.017849235\n",
      "Iteration: 1900 gcost= 0.109428488\n",
      "Iteration: 2000 dcost= 0.011907911\n",
      "Iteration: 2000 gcost= 0.128460273\n",
      "Iteration: 2100 dcost= 0.072462991\n",
      "Iteration: 2100 gcost= 0.131901622\n",
      "Iteration: 2200 dcost= 0.094658449\n",
      "Iteration: 2200 gcost= 0.062814839\n",
      "Iteration: 2300 dcost= 0.048511837\n",
      "Iteration: 2300 gcost= 0.086688347\n",
      "Iteration: 2400 dcost= 0.018358979\n",
      "Iteration: 2400 gcost= 0.107620537\n",
      "Iteration: 2500 dcost= 0.019045684\n",
      "Iteration: 2500 gcost= 0.138658807\n",
      "Iteration: 2600 dcost= 0.029927559\n",
      "Iteration: 2600 gcost= 0.139421195\n",
      "Iteration: 2700 dcost= 0.016162351\n",
      "Iteration: 2700 gcost= 0.148218095\n"
     ]
    }
   ],
   "source": [
    "sess.run(tf.global_variables_initializer())\n",
    "iterations = 3000\n",
    "for i in range(iterations):\n",
    "    avg_dcost = 0\n",
    "    avg_gcost = 0\n",
    "    z_batch = np.random.normal(-1, 1, size=[batch_size, z_dimensions])\n",
    "    real_image_batch = mnist.train.next_batch(batch_size)\n",
    "    real_image_batch = np.reshape(real_image_batch[0], [batch_size, 28, 28, 1])\n",
    "    \n",
    "    _, dLoss = sess.run([trainerD, d_loss], feed_dict={z_placeholder: z_batch, \n",
    "                                                       x_placeholder: real_image_batch})\n",
    "    avg_dcost += dLoss / batch_size\n",
    "    if (i % 100 == 0):\n",
    "        print(\"Iteration:\", '%04d' % (i), \"dcost=\", \"{:.9f}\".format(avg_dcost))\n",
    "    \n",
    "    _, gLoss = sess.run([trainerG, g_loss], feed_dict={z_placeholder: z_batch})\n",
    "    avg_gcost += gLoss / batch_size\n",
    "    if (i % 100 == 0):\n",
    "        print(\"Iteration:\", '%04d' % (i), \"gcost=\", \"{:.9f}\".format(avg_gcost))"
   ]
  },
  {
   "cell_type": "code",
   "execution_count": 21,
   "metadata": {},
   "outputs": [
    {
     "data": {
      "text/plain": [
       "<matplotlib.image.AxesImage at 0x7f0968071c88>"
      ]
     },
     "execution_count": 21,
     "metadata": {},
     "output_type": "execute_result"
    }
   ],
   "source": [
    "sample_image = generator(z_placeholder, 1, z_dimensions, reuse=True)\n",
    "z_batch = np.random.normal(-1, 1, size=[1, z_dimensions])\n",
    "temp = (sess.run(sample_image, feed_dict={z_placeholder: z_batch}))\n",
    "my_i = temp.squeeze()\n",
    "plt.imshow(my_i, cmap='gray_r')"
   ]
  },
  {
   "cell_type": "code",
   "execution_count": 22,
   "metadata": {},
   "outputs": [
    {
     "data": {
      "image/png": "[encoded data removed]",
      "text/plain": [
       "<matplotlib.figure.Figure at 0x7f0968108860>"
      ]
     },
     "metadata": {},
     "output_type": "display_data"
    }
   ],
   "source": [
    "plt.show()"
   ]
  },
  {
   "cell_type": "code",
   "execution_count": null,
   "metadata": {
    "collapsed": true
   },
   "outputs": [],
   "source": []
  }
 ],
 "metadata": {
  "kernelspec": {
   "display_name": "Python 3",
   "language": "python",
   "name": "python3"
  },
  "language_info": {
   "codemirror_mode": {
    "name": "ipython",
    "version": 3
   },
   "file_extension": ".py",
   "mimetype": "text/x-python",
   "name": "python",
   "nbconvert_exporter": "python",
   "pygments_lexer": "ipython3",
   "version": "3.6.1"
  }
 },
 "nbformat": 4,
 "nbformat_minor": 2
}
